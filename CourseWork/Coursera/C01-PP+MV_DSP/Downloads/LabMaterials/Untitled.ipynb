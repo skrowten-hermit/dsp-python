{
 "cells": [
  {
   "cell_type": "code",
   "execution_count": null,
   "metadata": {},
   "outputs": [
    {
     "name": "stdout",
     "output_type": "stream",
     "text": [
      "AudioPhase/\n",
      "AudioPhase/.ipynb_checkpoints/\n",
      "AudioPhase/.ipynb_checkpoints/phase-checkpoint.ipynb\n",
      "AudioPhase/piano.jpg\n",
      "AudioPhase/phase.ipynb\n",
      "AudioPhase/phase_2021_12_09_20_13_07.ipynb\n",
      "AudioPhase/clarinet.png\n",
      "AudioPhase/piano.wav\n",
      "Beatings/\n",
      "Beatings/.ipynb_checkpoints/\n",
      "Beatings/.ipynb_checkpoints/beats-checkpoint.ipynb\n",
      "Beatings/untitled.txt\n",
      "Beatings/beats.ipynb\n",
      "DFTplots/\n",
      "DFTplots/DFTplots.ipynb\n",
      "DFTplots/.ipynb_checkpoints/\n",
      "DFTplots/.ipynb_checkpoints/DFTplots-checkpoint.ipynb\n",
      "DFTplots/piano.wav\n",
      "DFTprecision/\n",
      "DFTprecision/DFTprecision.ipynb\n",
      "DFTprecision/.ipynb_checkpoints/\n",
      "DFTprecision/.ipynb_checkpoints/DFTprecision-checkpoint.ipynb\n",
      "DTMF/\n",
      "DTMF/.ipynb_checkpoints/\n",
      "DTMF/.ipynb_checkpoints/DTMF-checkpoint.ipynb\n",
      "DTMF/DTMF.ipynb\n",
      "EchoCancellation/\n",
      "EchoCancellation/EchoCancellation.ipynb\n",
      "EchoCancellation/.ipynb_checkpoints/\n",
      "EchoCancellation/.ipynb_checkpoints/EchoCancellation-checkpoint.ipynb\n",
      "EchoCancellation/speech2.wav\n",
      "EchoCancellation/echo.jpg\n",
      "FIR/\n",
      "FIR/.ipynb_checkpoints/\n",
      "FIR/.ipynb_checkpoints/implementation-checkpoint.ipynb\n",
      "FIR/implementation.ipynb\n",
      "Fukushima/\n",
      "Fukushima/.ipynb_checkpoints/\n",
      "Fukushima/.ipynb_checkpoints/Fukushima-checkpoint.ipynb\n",
      "Fukushima/Safecast_data.txt\n",
      "Fukushima/Fukushima.ipynb\n",
      "HaarBasis/\n",
      "HaarBasis/cameraman.jpg\n",
      "HaarBasis/hb.ipynb\n",
      "HaarBasis/.ipynb_checkpoints/\n",
      "HaarBasis/.ipynb_checkpoints/hb-checkpoint.ipynb\n",
      "KarplusStrong/\n",
      "KarplusStrong/.ipynb_checkpoints/\n",
      "KarplusStrong/.ipynb_checkpoints/ks-checkpoint.ipynb\n",
      "KarplusStrong/ks_2021_12_09_20_13_07.ipynb\n",
      "KarplusStrong/ks.ipynb\n",
      "KarplusStrong/ks.png\n",
      "KarplusStrong/hdn.jpg\n",
      "KarplusStrong/hdn.png\n",
      "MiniMax/\n",
      "MiniMax/.ipynb_checkpoints/\n",
      "MiniMax/.ipynb_checkpoints/minimax-checkpoint.ipynb\n",
      "MiniMax/specs.png\n",
      "MiniMax/minimax.ipynb\n",
      "MiniMax/minimax_2021_12_09_20_13_07.ipynb\n",
      "Music/\n",
      "Music/filtering.ipynb\n"
     ]
    }
   ],
   "source": [
    "#!tar chvfz notebook.tar.gz *\n",
    "!tar cvfz allfiles.tar.gz *"
   ]
  },
  {
   "cell_type": "code",
   "execution_count": null,
   "metadata": {
    "collapsed": true
   },
   "outputs": [],
   "source": []
  }
 ],
 "metadata": {
  "kernelspec": {
   "display_name": "Python 3",
   "language": "python",
   "name": "python3"
  },
  "language_info": {
   "codemirror_mode": {
    "name": "ipython",
    "version": 3
   },
   "file_extension": ".py",
   "mimetype": "text/x-python",
   "name": "python",
   "nbconvert_exporter": "python",
   "pygments_lexer": "ipython3",
   "version": "3.6.2"
  }
 },
 "nbformat": 4,
 "nbformat_minor": 2
}
